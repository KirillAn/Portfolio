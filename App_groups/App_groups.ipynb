{
 "cells": [
  {
   "cell_type": "markdown",
   "metadata": {},
   "source": [
    "## План:\n",
    "1. Предобработка данных:\n",
    " - Исследовать пропущенные значения;\n",
    " - Исследовать соответствие типов;\n",
    " - Исследовать дубликаты;\n",
    " - Проверить корректность наименований колонок;\n",
    " - Переименовать колонки;\n",
    " - Удалить дубликаты, если таковые есть;\n",
    " - Привести типы;\n",
    " - Заменить пропущенные значения, если необходимо.\n",
    "2. Исследовательский анализ данных\n",
    "3. Выделить пользователей в группы на основе нализа данных\n",
    "4. Рассчитать ключевые показателей для каждой из выделенных групп и сравнить по этим показателям группы:\n",
    " - рассчитать retention rate;\n",
    " - рассчитать время, проведённое в приложении;\n",
    " - посмотреть частоту действий;\n",
    " - рассчитать конверсию в целевое действие — просмотр контактов.\n",
    "5. Проверка статистических гипотез:\n",
    " - Некоторые пользователи установили приложение по ссылке из yandex, другие — из google. Проверьте гипотезу: две эти группы демонстрируют разную конверсию в просмотры контактов;\n",
    " - Формулировка собственной гипотезы на основе данных.\n",
    "6. Вывод"
   ]
  },
  {
   "cell_type": "code",
   "execution_count": 1,
   "metadata": {},
   "outputs": [],
   "source": [
    "import pandas as pd\n",
    "import datetime as dt\n",
    "from datetime import timedelta\n",
    "import time\n",
    "import seaborn as sns\n",
    "from sklearn.preprocessing import StandardScaler\n",
    "from sklearn.model_selection import train_test_split\n",
    "from sklearn.linear_model import Lasso, Ridge\n",
    "from sklearn.linear_model import LogisticRegression\n",
    "from sklearn.tree import DecisionTreeRegressor\n",
    "from sklearn.ensemble import RandomForestRegressor, GradientBoostingRegressor\n",
    "import matplotlib.pyplot as plt\n",
    "from sklearn.metrics import mean_absolute_error, mean_squared_error, r2_score\n",
    "import warnings\n",
    "warnings.filterwarnings('ignore')\n",
    "from sklearn.ensemble import RandomForestClassifier, GradientBoostingClassifier\n",
    "from sklearn.metrics import accuracy_score, precision_score, recall_score, f1_score\n",
    "from sklearn.cluster import KMeans\n",
    "import numpy as np\n",
    "from scipy.cluster.hierarchy import dendrogram, linkage\n",
    "from sklearn.metrics import silhouette_score\n",
    "import string\n",
    "from string import ascii_uppercase\n",
    "import math as mth\n",
    "import scipy.stats as stats\n",
    "from scipy import stats as st"
   ]
  },
  {
   "cell_type": "code",
   "execution_count": 2,
   "metadata": {},
   "outputs": [
    {
     "data": {},
     "metadata": {},
     "output_type": "display_data"
    }
   ],
   "source": [
    "mdf = pd.read_csv('/Users/kirillanosov/Desktop/Data_anal/final_project/mobile_dataset.csv')\n",
    "display(mdf.head(20))\n",
    "mdf.info()"
   ]
  },
  {
   "cell_type": "code",
   "execution_count": 3,
   "metadata": {},
   "outputs": [
    {
     "data": {},
     "metadata": {},
     "output_type": "display_data"
    }
   ],
   "source": [
    "ms = pd.read_csv('/Users/kirillanosov/Desktop/Data_anal/final_project/mobile_soures.csv')\n",
    "display(ms.head())\n",
    "ms.info()"
   ]
  },
  {
   "cell_type": "markdown",
   "metadata": {},
   "source": [
    "На случай, если нужно будет объединять таблицы, переименуем столбцы"
   ]
  },
  {
   "cell_type": "code",
   "execution_count": 4,
   "metadata": {},
   "outputs": [],
   "source": [
    "mdf.set_axis(['event_time', 'event_name', 'uid'], axis = 'columns', inplace = True)\n"
   ]
  },
  {
   "cell_type": "code",
   "execution_count": 5,
   "metadata": {},
   "outputs": [],
   "source": [
    "ms.rename(columns = {'userId' : 'uid'}, inplace = True)"
   ]
  },
  {
   "cell_type": "markdown",
   "metadata": {},
   "source": [
    "### Разберемся с форматом времени и дат.\n",
    "\n",
    "Сначала удалим миллисекунды:"
   ]
  },
  {
   "cell_type": "code",
   "execution_count": 6,
   "metadata": {},
   "outputs": [],
   "source": [
    "mdf['event_time'] = pd.to_datetime(mdf['event_time'])\n"
   ]
  },
  {
   "cell_type": "code",
   "execution_count": 7,
   "metadata": {},
   "outputs": [],
   "source": [
    "mdf['event_time'] = mdf['event_time'].dt.strftime('%Y-%m-%d %H:%M:%S')\n"
   ]
  },
  {
   "cell_type": "code",
   "execution_count": 8,
   "metadata": {},
   "outputs": [],
   "source": [
    "mdf['event_time'] = pd.to_datetime(mdf['event_time'], errors='coerce')\n",
    "\n",
    "mdf.info()"
   ]
  },
  {
   "cell_type": "markdown",
   "metadata": {},
   "source": [
    "### Исследуем пропущенные значения:"
   ]
  },
  {
   "cell_type": "code",
   "execution_count": 9,
   "metadata": {},
   "outputs": [
    {
     "data": {},
     "execution_count": 9,
     "metadata": {},
     "output_type": "execute_result"
    }
   ],
   "source": [
    "mdf.isna().sum()\n"
   ]
  },
  {
   "cell_type": "code",
   "execution_count": 10,
   "metadata": {},
   "outputs": [
    {
     "data": {},
     "execution_count": 10,
     "metadata": {},
     "output_type": "execute_result"
    }
   ],
   "source": [
    "ms.isna().sum()"
   ]
  },
  {
   "cell_type": "markdown",
   "metadata": {},
   "source": [
    "Убедимся, что в таблицах одинаковое количество пользователей"
   ]
  },
  {
   "cell_type": "code",
   "execution_count": 11,
   "metadata": {},
   "outputs": [
    {
     "data": {},
     "execution_count": 11,
     "metadata": {},
     "output_type": "execute_result"
    }
   ],
   "source": [
    "mdf['uid'].nunique(), ms['uid'].nunique()"
   ]
  },
  {
   "cell_type": "markdown",
   "metadata": {},
   "source": [
    "# 2. Исследовательский анализ данных\n"
   ]
  },
  {
   "cell_type": "markdown",
   "metadata": {},
   "source": [
    "Найдем время совершения первого действия в приложении (нам это может понадобиться в дальнейшем):"
   ]
  },
  {
   "cell_type": "code",
   "execution_count": 12,
   "metadata": {},
   "outputs": [
    {
     "data": {},
     "execution_count": 12,
     "metadata": {},
     "output_type": "execute_result"
    }
   ],
   "source": [
    "first_active = mdf.groupby(['uid'])['event_time'].min()\n",
    "first_active.name = 'first_activity_time'\n",
    "mdf1 = mdf.merge(first_active, on = 'uid')\n",
    "\n",
    "mdf1\n"
   ]
  },
  {
   "cell_type": "code",
   "execution_count": 13,
   "metadata": {},
   "outputs": [],
   "source": [
    "mdf1['event_date'] = mdf1['event_time'].dt.date\n",
    "mdf1['first_activity_date'] = mdf1['first_activity_time'].dt.date"
   ]
  },
  {
   "cell_type": "code",
   "execution_count": 14,
   "metadata": {},
   "outputs": [
    {
     "data": {},
     "execution_count": 14,
     "metadata": {},
     "output_type": "execute_result"
    }
   ],
   "source": [
    "mdf1['age'] = (mdf1['event_date'] - mdf1['first_activity_date']).dt.days + 1\n",
    "mdf1.head()\n"
   ]
  },
  {
   "cell_type": "code",
   "execution_count": 15,
   "metadata": {},
   "outputs": [],
   "source": [
    "mdf1['event_date'] = pd.to_datetime(mdf1['event_date'])\n",
    "mdf1['first_activity_date'] = pd.to_datetime(mdf1['first_activity_date'])"
   ]
  },
  {
   "cell_type": "code",
   "execution_count": 16,
   "metadata": {},
   "outputs": [
    {
     "data": {},
     "execution_count": 16,
     "metadata": {},
     "output_type": "execute_result"
    }
   ],
   "source": [
    "mdf1['first_activity_date'].value_counts(), mdf1['event_date'].value_counts()"
   ]
  },
  {
   "cell_type": "markdown",
   "metadata": {},
   "source": [
    "Найдем неделю, когда произошло первое дейтсвие, и неделю, когда случались последующие активности:"
   ]
  },
  {
   "cell_type": "code",
   "execution_count": 17,
   "metadata": {},
   "outputs": [],
   "source": [
    "mdf1['activity_week'] = pd.to_datetime(mdf1['event_date'], unit='d') - pd.to_timedelta(mdf1['event_date'].dt.dayofweek, unit='d')\n",
    "mdf1['first_activity_week'] = pd.to_datetime(mdf1['first_activity_date'], unit='d') - pd.to_timedelta(mdf1['first_activity_date'].dt.dayofweek, unit='d')\n"
   ]
  },
  {
   "cell_type": "markdown",
   "metadata": {},
   "source": [
    "Теперь найдем срок жизни каждой когорты и приведем ее к типу целых чисел:"
   ]
  },
  {
   "cell_type": "code",
   "execution_count": 18,
   "metadata": {},
   "outputs": [],
   "source": [
    "mdf1['cohort_lifetime'] = mdf1['activity_week'] - mdf1['first_activity_week']\n",
    "mdf1['cohort_lifetime'] = mdf1['cohort_lifetime'] / np.timedelta64(1,'W')\n",
    "mdf1['cohort_lifetime'] = mdf1['cohort_lifetime'].astype('int') \n"
   ]
  },
  {
   "cell_type": "markdown",
   "metadata": {},
   "source": [
    "Посмотрим распределение активности по дням:"
   ]
  },
  {
   "cell_type": "code",
   "execution_count": 19,
   "metadata": {},
   "outputs": [
    {
     "data": {},
     "execution_count": 19,
     "metadata": {},
     "output_type": "execute_result"
    },
    {
     "data": {
      "image/png": "[encoded data removed]"
     },
     "metadata": {
      "needs_background": "light"
     },
     "output_type": "display_data"
    }
   ],
   "source": [
    "event_cnt = mdf1.groupby('event_date')['event_name'].count()\n",
    "event_cnt.plot(kind = 'bar', figsize = (15,15))\n"
   ]
  },
  {
   "cell_type": "markdown",
   "metadata": {},
   "source": [
    "Явных проседаний по активности пользователей нет"
   ]
  },
  {
   "cell_type": "markdown",
   "metadata": {},
   "source": [
    "Найдем уникальные сессии каждого пользователя. За шаг между сессиями возьмем 15 минут, т.к. пользователи вряд ли будут задерживаться на одной странице в приложении так долго:"
   ]
  },
  {
   "cell_type": "code",
   "execution_count": 20,
   "metadata": {},
   "outputs": [],
   "source": [
    "cond1 = mdf1['event_time'] - mdf1['event_time'].shift(1) > pd.Timedelta(15, 'm')\n",
    "cond2 = mdf1['uid'] != mdf1['uid'].shift(1)\n",
    "mdf1['session_id'] = (cond1|cond2).cumsum()"
   ]
  },
  {
   "cell_type": "code",
   "execution_count": 21,
   "metadata": {},
   "outputs": [
    {
     "data": {},
     "metadata": {},
     "output_type": "display_data"
    },
    {
     "data": {},
     "execution_count": 21,
     "metadata": {},
     "output_type": "execute_result"
    }
   ],
   "source": [
    "sess = mdf1.groupby('uid').agg({'session_id':'nunique'}).reset_index()\n",
    "display(sess['session_id'].describe())\n",
    "sess"
   ]
  },
  {
   "cell_type": "code",
   "execution_count": 22,
   "metadata": {},
   "outputs": [
    {
     "data": {},
     "execution_count": 22,
     "metadata": {},
     "output_type": "execute_result"
    }
   ],
   "source": [
    "sess['session_id'].describe()"
   ]
  },
  {
   "cell_type": "markdown",
   "metadata": {},
   "source": [
    "Максимальное количесвто сессий - 116"
   ]
  },
  {
   "cell_type": "markdown",
   "metadata": {},
   "source": [
    "Посчитаем длительность сессий:"
   ]
  },
  {
   "cell_type": "code",
   "execution_count": 23,
   "metadata": {},
   "outputs": [
    {
     "data": {},
     "execution_count": 23,
     "metadata": {},
     "output_type": "execute_result"
    }
   ],
   "source": [
    "\n",
    "session_min_time = mdf1.groupby(['session_id'])['event_time'].min()\n",
    "session_max_time = mdf1.groupby(['session_id'])['event_time'].max()\n",
    "session_min_time.name = 'session_min_time'\n",
    "session_max_time.name = 'session_max_time'\n",
    "mdf1 = mdf1.merge(session_min_time, on = 'session_id')\n",
    "mdf1 = mdf1.merge(session_max_time, on = 'session_id')\n",
    "mdf1.head()"
   ]
  },
  {
   "cell_type": "code",
   "execution_count": 24,
   "metadata": {},
   "outputs": [
    {
     "data": {},
     "execution_count": 24,
     "metadata": {},
     "output_type": "execute_result"
    }
   ],
   "source": [
    "mdf1['session_lifetime'] = mdf1['session_max_time'] - mdf1['session_min_time']\n",
    "mdf1['session_lifetime']"
   ]
  },
  {
   "cell_type": "markdown",
   "metadata": {},
   "source": [
    "Посчитаем сколько действий было выполнено пользователями:"
   ]
  },
  {
   "cell_type": "code",
   "execution_count": 25,
   "metadata": {},
   "outputs": [
    {
     "data": {},
     "execution_count": 25,
     "metadata": {},
     "output_type": "execute_result"
    }
   ],
   "source": [
    "events = mdf1.groupby('event_name').agg({'uid':'nunique'}).reset_index().sort_values(by = 'uid', ascending = False)\n",
    "events.rename(columns = {'uid' : 'num_users'}, inplace = True)\n",
    "events"
   ]
  },
  {
   "cell_type": "markdown",
   "metadata": {},
   "source": [
    "Переименуем contacts_show в show_contacts, чтобы было одинаковое название"
   ]
  },
  {
   "cell_type": "code",
   "execution_count": 26,
   "metadata": {},
   "outputs": [
    {
     "data": {},
     "execution_count": 26,
     "metadata": {},
     "output_type": "execute_result"
    }
   ],
   "source": [
    "mdf1['event_name'] = mdf1['event_name'].replace(['contacts_show'],'show_contacts')\n",
    "events = mdf1.groupby('event_name').agg({'uid':'nunique'}).reset_index().sort_values(by = 'uid', ascending = False)\n",
    "events.rename(columns = {'uid' : 'num_users'}, inplace = True)\n",
    "events"
   ]
  },
  {
   "cell_type": "markdown",
   "metadata": {},
   "source": [
    "Посчитаем, сколько действий на одного пользователя :"
   ]
  },
  {
   "cell_type": "code",
   "execution_count": 27,
   "metadata": {},
   "outputs": [
    {
     "data": {},
     "execution_count": 27,
     "metadata": {},
     "output_type": "execute_result"
    }
   ],
   "source": [
    "per_user = mdf1.groupby('uid').agg({'event_name':'count'}).reset_index()\n",
    "per_user['event_name'].describe()"
   ]
  },
  {
   "cell_type": "markdown",
   "metadata": {},
   "source": [
    "Медианное количесвто действий - 9, среднее - 17. Есть и аномалии вроде 478 действий. Минимум 1 действие делал каждый"
   ]
  },
  {
   "cell_type": "markdown",
   "metadata": {},
   "source": [
    "Рассчитаем процент действий:"
   ]
  },
  {
   "cell_type": "code",
   "execution_count": 28,
   "metadata": {},
   "outputs": [
    {
     "data": {},
     "execution_count": 28,
     "metadata": {},
     "output_type": "execute_result"
    }
   ],
   "source": [
    "events['prt'] = events['num_users'] / 4293 * 100\n",
    "events['prt'] = events['prt'].apply(np.ceil)\n",
    "\n",
    "events"
   ]
  },
  {
   "cell_type": "markdown",
   "metadata": {},
   "source": [
    "Только 66% пользователей видят рекомендованные объявления. Было бы интересно сравнить их поведение с теми, кто этих объявлений не видит. Например, сравнить кто чаще пользуется поиском"
   ]
  },
  {
   "cell_type": "markdown",
   "metadata": {},
   "source": [
    "# 3. Выделим пользователей в группы на основе нализа данных"
   ]
  },
  {
   "cell_type": "code",
   "execution_count": 29,
   "metadata": {},
   "outputs": [],
   "source": [
    "tips_see = mdf1.query('event_name == \"tips_show\"')\n",
    "tips = tips_see['uid']\n",
    "saw_tips = mdf1.query('uid in @tips')"
   ]
  },
  {
   "cell_type": "code",
   "execution_count": 30,
   "metadata": {},
   "outputs": [
    {
     "data": {},
     "execution_count": 30,
     "metadata": {},
     "output_type": "execute_result"
    }
   ],
   "source": [
    "saw_tips['uid'].nunique()"
   ]
  },
  {
   "cell_type": "code",
   "execution_count": 31,
   "metadata": {},
   "outputs": [],
   "source": [
    "saw_id = saw_tips['uid']"
   ]
  },
  {
   "cell_type": "code",
   "execution_count": 32,
   "metadata": {},
   "outputs": [
    {
     "data": {},
     "execution_count": 32,
     "metadata": {},
     "output_type": "execute_result"
    }
   ],
   "source": [
    "saw_part = saw_tips.groupby('event_name').agg({'uid':'nunique'}).reset_index().sort_values(by = 'uid', ascending = False)\n",
    "saw_part"
   ]
  },
  {
   "cell_type": "code",
   "execution_count": 33,
   "metadata": {},
   "outputs": [
    {
     "data": {},
     "execution_count": 33,
     "metadata": {},
     "output_type": "execute_result"
    }
   ],
   "source": [
    "tips_not_see = mdf1.query('uid not in @saw_id')\n",
    "tips_not_see['uid'].nunique()"
   ]
  },
  {
   "cell_type": "code",
   "execution_count": 34,
   "metadata": {},
   "outputs": [
    {
     "data": {},
     "execution_count": 34,
     "metadata": {},
     "output_type": "execute_result"
    }
   ],
   "source": [
    "tips_e = tips_not_see.groupby('event_name').agg({'uid':'nunique'}).reset_index().sort_values(by = 'uid', ascending = False)\n",
    "tips_e"
   ]
  },
  {
   "cell_type": "code",
   "execution_count": 35,
   "metadata": {},
   "outputs": [
    {
     "data": {},
     "execution_count": 35,
     "metadata": {},
     "output_type": "execute_result"
    }
   ],
   "source": [
    "tips_see_sess = saw_tips.groupby('uid').agg({'session_id':'nunique'}).reset_index()\n",
    "tips_see_sess.describe()"
   ]
  },
  {
   "cell_type": "code",
   "execution_count": 36,
   "metadata": {},
   "outputs": [
    {
     "data": {},
     "execution_count": 36,
     "metadata": {},
     "output_type": "execute_result"
    }
   ],
   "source": [
    "tips_not_see_sess = tips_not_see.groupby('uid').agg({'session_id':'nunique'}).reset_index()\n",
    "tips_not_see_sess.describe()"
   ]
  },
  {
   "cell_type": "markdown",
   "metadata": {},
   "source": [
    "Количество сессий на 1 человека среди тех, кто не видит рекомендованные объявления, выше, чем для тех, кто видит. Интересно будет сравнить основные показатели этих двух групп: retention rate, время в приложении, конверсию в целевое действие и частоту действий. **Возьмем их за отправную точку**:"
   ]
  },
  {
   "cell_type": "code",
   "execution_count": 37,
   "metadata": {},
   "outputs": [],
   "source": [
    "part1 = tips_not_see\n",
    "part2 = saw_tips"
   ]
  },
  {
   "cell_type": "markdown",
   "metadata": {},
   "source": [
    "Посмотрим, сколько и какие действия совершали члены группы, которой не показывали рекомендации:"
   ]
  },
  {
   "cell_type": "code",
   "execution_count": 38,
   "metadata": {},
   "outputs": [
    {
     "data": {},
     "execution_count": 38,
     "metadata": {},
     "output_type": "execute_result"
    }
   ],
   "source": [
    "part1_actions = part1.groupby('event_name').agg({'uid':'nunique'}).reset_index().sort_values(by = 'uid', ascending = False)\n",
    "part1_actions"
   ]
  },
  {
   "cell_type": "markdown",
   "metadata": {},
   "source": [
    "Бросается в глаза, что среди тех, кому рекомендации не показывают, очень много людей пользуются поиском. Но есть те, кому он не нужен. Это будут **первые две группы**:"
   ]
  },
  {
   "cell_type": "code",
   "execution_count": 39,
   "metadata": {},
   "outputs": [
    {
     "data": {},
     "execution_count": 39,
     "metadata": {},
     "output_type": "execute_result"
    }
   ],
   "source": [
    "searches1 = part1.query('event_name == (\"search_1\",\"search_2\", \"search_3\", \"search_4\", \"search_5\", \"search_6\", \"search_7\")')\n",
    "uid1 = searches1['uid']\n",
    "group1 = part1.query('uid in@uid1').reset_index()\n",
    "group1['uid'].nunique()"
   ]
  },
  {
   "cell_type": "code",
   "execution_count": 40,
   "metadata": {},
   "outputs": [
    {
     "data": {},
     "execution_count": 40,
     "metadata": {},
     "output_type": "execute_result"
    }
   ],
   "source": [
    "\n",
    "group2 = part1.query('uid not in@uid1').reset_index()\n",
    "group2['uid'].nunique()\n"
   ]
  },
  {
   "cell_type": "markdown",
   "metadata": {},
   "source": [
    "Аналогично поступим с частью пользователей, которой рекомендации показывали:"
   ]
  },
  {
   "cell_type": "code",
   "execution_count": 41,
   "metadata": {},
   "outputs": [
    {
     "data": {},
     "execution_count": 41,
     "metadata": {},
     "output_type": "execute_result"
    }
   ],
   "source": [
    "part2_actions = part2.groupby('event_name').agg({'uid':'nunique'}).reset_index().sort_values(by = 'uid', ascending = False)\n",
    "part2_actions"
   ]
  },
  {
   "cell_type": "markdown",
   "metadata": {},
   "source": [
    "Тут тоже пользователи часто пользовадись поиском. Тоже поделим их на тех, кто пользовался и тех, кто не пользовался. **Это будут группы 3 и 4**:"
   ]
  },
  {
   "cell_type": "code",
   "execution_count": 42,
   "metadata": {},
   "outputs": [
    {
     "data": {},
     "execution_count": 42,
     "metadata": {},
     "output_type": "execute_result"
    }
   ],
   "source": [
    "searches2 = part2.query('event_name == (\"search_1\",\"search_2\", \"search_3\", \"search_4\", \"search_5\", \"search_6\", \"search_7\")')\n",
    "uid2 = searches2['uid']\n",
    "group3 = part2.query('uid in@uid2').reset_index()\n",
    "group3['uid'].nunique()"
   ]
  },
  {
   "cell_type": "code",
   "execution_count": 43,
   "metadata": {},
   "outputs": [
    {
     "data": {},
     "execution_count": 43,
     "metadata": {},
     "output_type": "execute_result"
    }
   ],
   "source": [
    "group4 = part2.query('uid not in@uid2')\n",
    "group4['uid'].nunique()"
   ]
  },
  {
   "cell_type": "markdown",
   "metadata": {},
   "source": [
    "# 4. Рассчет ключевых метрик в группах"
   ]
  },
  {
   "cell_type": "markdown",
   "metadata": {},
   "source": [
    "### Рассчитаем retention rate"
   ]
  },
  {
   "cell_type": "markdown",
   "metadata": {},
   "source": [
    " Напишем функцию, которая выведет рейтинг удержания клиентов для всех 4 групп:"
   ]
  },
  {
   "cell_type": "code",
   "execution_count": 44,
   "metadata": {},
   "outputs": [],
   "source": [
    "def retention(data):\n",
    "    cohorts = data.groupby(['first_activity_week','cohort_lifetime']).agg({'uid':'nunique'}).reset_index()\n",
    "    initial_users = cohorts[cohorts['cohort_lifetime'] == 0][['first_activity_week','uid']]\n",
    "    initial_users = initial_users.rename(columns={'uid':'cohort_users'}) \n",
    "    cohorts = cohorts.merge(initial_users,on='first_activity_week')\n",
    "    cohorts['retention'] = cohorts['uid']/cohorts['cohort_users']\n",
    "    retention_pivot = cohorts.pivot_table(index='first_activity_week',columns='cohort_lifetime',values='retention',aggfunc='sum')\n",
    "    sns.set(style='white')\n",
    "    plt.figure(figsize=(13, 9))\n",
    "    plt.title('Cohorts: User Retention')\n",
    "    sns.heatmap(retention_pivot, annot=True, fmt='.1%', linewidths=1, linecolor='gray')"
   ]
  },
  {
   "cell_type": "code",
   "execution_count": 45,
   "metadata": {},
   "outputs": [
    {
     "data": {
      "image/png": "[encoded data removed]"
     },
     "metadata": {},
     "output_type": "display_data"
    }
   ],
   "source": [
    "retention(group1)"
   ]
  },
  {
   "cell_type": "code",
   "execution_count": 46,
   "metadata": {},
   "outputs": [
    {
     "data": {
      "image/png": "[encoded data removed]"
     },
     "metadata": {},
     "output_type": "display_data"
    }
   ],
   "source": [
    "retention(group2)"
   ]
  },
  {
   "cell_type": "markdown",
   "metadata": {},
   "source": [
    "**Группа 1(не видят рекомендаций и пользуются поиском)** показывают достойные 30% - 34% удержания на второй неделе, но к четвертой неделе первая когорта падает до 11.8%. Вторая когорта с 33% на второй неделе падает до 15% на третей. Это говорит о том, что все-таки эта аудитория на долго не задерживается.\n",
    "\n",
    "**Группа 2(не видят рекомендаций и не пользуются поиском)** показывает результат хуже, чем группа 1: от 20% до 24% удержания клиентов на второй неделе. К четвертой неделе первая когорта падает до 9.7%, а вторая когорта к третей неделе до 10.3%. Результаты в общем не очень хорошие.\n"
   ]
  },
  {
   "cell_type": "code",
   "execution_count": 47,
   "metadata": {},
   "outputs": [
    {
     "data": {
      "image/png": "[encoded data removed]"
     },
     "metadata": {},
     "output_type": "display_data"
    }
   ],
   "source": [
    "retention(group3)"
   ]
  },
  {
   "cell_type": "code",
   "execution_count": 48,
   "metadata": {},
   "outputs": [
    {
     "data": {
      "image/png": "[encoded data removed]"
     },
     "metadata": {},
     "output_type": "display_data"
    }
   ],
   "source": [
    "retention(group4)"
   ]
  },
  {
   "cell_type": "markdown",
   "metadata": {},
   "source": [
    "**Группа 3(видят рекомендации и пользуются поиском)** показывает не самые высокие проценты удержания, но самые стабильные. Первая когорта на второй неделе имеет 24.9%, потом этот показатель падает до 15.9% на третей, но к четвертой неделе показатель теряет всего 0.4%. Вторая когорта тожа очень стабильна.\n",
    "\n",
    "**Группа 4(видят рекомендации и не пользуются поиском)** показывает худщие результаты среди всех групп"
   ]
  },
  {
   "cell_type": "markdown",
   "metadata": {},
   "source": [
    "### Рассчитаем время, проведённое в приложении"
   ]
  },
  {
   "cell_type": "markdown",
   "metadata": {},
   "source": [
    "Создадим новую табличку gh с показателями времени жизни какждой сессии пользователей:"
   ]
  },
  {
   "cell_type": "code",
   "execution_count": 49,
   "metadata": {},
   "outputs": [],
   "source": [
    "session_min_time = mdf1.groupby(['session_id'])['event_time'].min().reset_index()\n",
    "session_max_time = mdf1.groupby(['session_id'])['event_time'].max().reset_index()\n",
    "session_min_time.name = 'session_min_time'\n",
    "session_max_time.name = 'session_max_time'\n",
    "gh = session_min_time.merge(session_max_time, on = 'session_id')\n",
    "gh['lifetime'] = gh['event_time_y'] - gh['event_time_x']\n",
    "gh = gh.drop(['event_time_x', 'event_time_y'], axis = 1)\n"
   ]
  },
  {
   "cell_type": "markdown",
   "metadata": {},
   "source": [
    "Напишем функцию для всех групп, которая позволит рассчитать время, проведенное в приложении:"
   ]
  },
  {
   "cell_type": "code",
   "execution_count": 50,
   "metadata": {},
   "outputs": [],
   "source": [
    "def lifetime(data):\n",
    "    time_in_app = data.groupby(['uid', 'session_id']).agg({'session_lifetime':'sum'}).reset_index()\n",
    "    time_in_app = time_in_app.merge(gh, on = 'session_id')\n",
    "    time_in_app = time_in_app.groupby('uid').agg({'lifetime':'sum'})\n",
    "    print(time_in_app['lifetime'].describe())\n",
    "    display(time_in_app)"
   ]
  },
  {
   "cell_type": "code",
   "execution_count": 51,
   "metadata": {},
   "outputs": [
    {
     "data": {},
     "metadata": {},
     "output_type": "display_data"
    }
   ],
   "source": [
    "lifetime(group1)"
   ]
  },
  {
   "cell_type": "code",
   "execution_count": 52,
   "metadata": {},
   "outputs": [
    {
     "data": {},
     "metadata": {},
     "output_type": "display_data"
    }
   ],
   "source": [
    "lifetime(group2)"
   ]
  },
  {
   "cell_type": "markdown",
   "metadata": {},
   "source": [
    "Из-за наличия серьезных выбросов будем смотреть не среднюю, а медиану. В **группе 1(не видят рекомендаций и пользуются поиском)** медианное время в приложении составляет почти 12 минут. В **группе 2(не видят рекомендаций и не пользуются поиском)** медианное время составило 7.5 минут."
   ]
  },
  {
   "cell_type": "code",
   "execution_count": 53,
   "metadata": {},
   "outputs": [
    {
     "data": {},
     "metadata": {},
     "output_type": "display_data"
    }
   ],
   "source": [
    "lifetime(group3)"
   ]
  },
  {
   "cell_type": "code",
   "execution_count": 54,
   "metadata": {},
   "outputs": [
    {
     "data": {},
     "metadata": {},
     "output_type": "display_data"
    }
   ],
   "source": [
    "lifetime(group4)"
   ]
  },
  {
   "cell_type": "markdown",
   "metadata": {},
   "source": [
    "В **группе 3(видят рекомендации и пользуются поиском)** медианное время в приложении почти 18 минут. В **группе 4(видят рекомендации и не пользуются поиском)** медианное время 14 минут."
   ]
  },
  {
   "cell_type": "markdown",
   "metadata": {},
   "source": [
    "**Общий вывод**:\n",
    "\n",
    "В целом те, кто видят рекомендации, проводят в приложении больше времени. И те, кто использует поиск, тоже в приложении проводят больше времени"
   ]
  },
  {
   "cell_type": "markdown",
   "metadata": {},
   "source": [
    "### Посмотрим частоту действий пользователей в группах"
   ]
  },
  {
   "cell_type": "markdown",
   "metadata": {},
   "source": [
    "Построим функцию, которая рассчитает все показатели частоты действий для всех групп:"
   ]
  },
  {
   "cell_type": "code",
   "execution_count": 55,
   "metadata": {},
   "outputs": [],
   "source": [
    "def actions(data):\n",
    "    dau_total = data.groupby('event_date').agg({'uid': 'nunique'}).mean()\n",
    "    wau_total = data.groupby('activity_week').agg({'uid': 'nunique'}).mean()\n",
    "    sticky_wau = dau_total/wau_total * 100\n",
    "    print('Уникальное колтичество пользователей в день:', dau_total)\n",
    "    print('Уникальное колтичество пользователей в неделю:', wau_total)\n",
    "    print('Как часто обращались к приложению:', sticky_wau)"
   ]
  },
  {
   "cell_type": "markdown",
   "metadata": {},
   "source": [
    "**Группа 1**:"
   ]
  },
  {
   "cell_type": "code",
   "execution_count": 56,
   "metadata": {},
   "outputs": [],
   "source": [
    "actions(group1)"
   ]
  },
  {
   "cell_type": "markdown",
   "metadata": {},
   "source": [
    "**Группа 2**:"
   ]
  },
  {
   "cell_type": "code",
   "execution_count": 57,
   "metadata": {},
   "outputs": [],
   "source": [
    "actions(group2)"
   ]
  },
  {
   "cell_type": "markdown",
   "metadata": {},
   "source": [
    "В **группе 1(не видят рекомендаций и пользуются поиском)** 64 уникальных пользователей в день, 301 в неделю. Пользователи первой группы обращаются к приложению в неделю 21 раз.\n",
    "\n",
    "В **группе 2(не видят рекомендаций и не пользуются поиском)** 40 уникальных пользователей в день, 198 в неделю. Пользователи второй группы обращаются к приложению 20 раз в неделю"
   ]
  },
  {
   "cell_type": "markdown",
   "metadata": {},
   "source": [
    "**Группа 3**:"
   ]
  },
  {
   "cell_type": "code",
   "execution_count": 58,
   "metadata": {},
   "outputs": [],
   "source": [
    "actions(group3)"
   ]
  },
  {
   "cell_type": "markdown",
   "metadata": {},
   "source": [
    "**Группа 4**:"
   ]
  },
  {
   "cell_type": "code",
   "execution_count": 59,
   "metadata": {},
   "outputs": [],
   "source": [
    "actions(group4)"
   ]
  },
  {
   "cell_type": "markdown",
   "metadata": {},
   "source": [
    "В **группе 3(видят рекомендации и пользуются поиском)** 58 ункиальных пользователей в день и 272 в неделю. Пользователи третей группы обращаются к приложению 21 раз в неделю\n",
    "\n",
    "В **группе 4(видят рекомендации и не пользуются поиском)** 116 уникальных пользователя в день и 611 в неделю. Пользователи четвертой группы обращаются к приложению 19 раз неделю"
   ]
  },
  {
   "cell_type": "markdown",
   "metadata": {},
   "source": [
    "**Выводы по частоте взаимодействия с приложением**:\n",
    " Значительной разницы по частоте взаиможействий с приложением в неделю между группами нет.\n",
    " "
   ]
  },
  {
   "cell_type": "markdown",
   "metadata": {},
   "source": [
    "### Рассчитаем конверсию в целевое действие — просмотр контактов:"
   ]
  },
  {
   "cell_type": "code",
   "execution_count": 60,
   "metadata": {},
   "outputs": [],
   "source": [
    "def conversion(data):\n",
    "    events = data.groupby('event_name').agg({'uid':'nunique'}).reset_index()\n",
    "    events['prt'] = events['uid'] / data['uid'].nunique() * 100\n",
    "    events['prt'] = events['prt'].apply(np.ceil)\n",
    "    events = events.drop('uid', axis = 1)\n",
    "    \n",
    "   \n",
    "    events.plot(kind = 'bar', x = 'event_name', grid = True, legend = True)\n",
    "    \n",
    "    print(events)"
   ]
  },
  {
   "cell_type": "markdown",
   "metadata": {},
   "source": [
    "**Группа 1**:"
   ]
  },
  {
   "cell_type": "code",
   "execution_count": 61,
   "metadata": {},
   "outputs": [
    {
     "data": {
      "image/png": "[encoded data removed]"
     },
     "metadata": {},
     "output_type": "display_data"
    }
   ],
   "source": [
    "conversion(group1)"
   ]
  },
  {
   "cell_type": "markdown",
   "metadata": {},
   "source": [
    "**Группа 2**:"
   ]
  },
  {
   "cell_type": "code",
   "execution_count": 62,
   "metadata": {},
   "outputs": [
    {
     "data": {
      "image/png": "[encoded data removed]"
     },
     "metadata": {},
     "output_type": "display_data"
    }
   ],
   "source": [
    "conversion(group2)"
   ]
  },
  {
   "cell_type": "markdown",
   "metadata": {},
   "source": [
    "В **группе 1(не видят рекомендаций и пользуются поиском)** конверсия в целевую метрику show_contacts - 28%.\n",
    "\n",
    "В **группе 2(не видят рекомендаций и не пользуются поиском)** конверсия в целевую метрику show_contacts - 37%."
   ]
  },
  {
   "cell_type": "markdown",
   "metadata": {},
   "source": [
    "**Группа 3**:"
   ]
  },
  {
   "cell_type": "code",
   "execution_count": 63,
   "metadata": {},
   "outputs": [
    {
     "data": {
      "image/png": "[encoded data removed]"
     },
     "metadata": {},
     "output_type": "display_data"
    }
   ],
   "source": [
    "conversion(group3)"
   ]
  },
  {
   "cell_type": "markdown",
   "metadata": {},
   "source": [
    "**Группа 4**:"
   ]
  },
  {
   "cell_type": "code",
   "execution_count": 64,
   "metadata": {},
   "outputs": [
    {
     "data": {
      "image/png": "[encoded data removed]"
     },
     "metadata": {},
     "output_type": "display_data"
    }
   ],
   "source": [
    "conversion(group4)"
   ]
  },
  {
   "cell_type": "markdown",
   "metadata": {},
   "source": [
    "В **группе 3(видят рекомендации и пользуются поиском)** конверсия в целевую метрику show_contacts - 18%.\n",
    "\n",
    "В **группе 4(видят рекомендации и не пользуются поиском)** конверсия в целевую метрику show_contacts - 19%."
   ]
  },
  {
   "cell_type": "markdown",
   "metadata": {},
   "source": [
    "**Общий вывод по конверсии в целевое действие просмотр контактов**:\n",
    " - Группы, которые не видели рекомендаций, показывают лучшую конверсию в целевую метрику show_contacts;\n",
    " - Группа 1(не видят рекомендаций и пользуются поиском) показала худший результат, чем группа 2(не видят рекомендаций и не пользуются поиском);\n",
    " - Между группой 3(видят рекомендации и пользуются поиском) и группой 4(видят рекомендации и не пользуются поиском) нет значительной разницы в конверсии."
   ]
  },
  {
   "cell_type": "markdown",
   "metadata": {},
   "source": [
    "# 5. Проверка статистических гипотез:"
   ]
  },
  {
   "cell_type": "markdown",
   "metadata": {},
   "source": [
    "### Некоторые пользователи установили приложение по ссылке из yandex, другие — из google. Проверьте гипотезу: две эти группы демонстрируют разную конверсию в просмотры контактов"
   ]
  },
  {
   "cell_type": "markdown",
   "metadata": {},
   "source": [
    "Для проверки гипотезы объединим две таблицы:"
   ]
  },
  {
   "cell_type": "code",
   "execution_count": 65,
   "metadata": {},
   "outputs": [
    {
     "data": {},
     "execution_count": 65,
     "metadata": {},
     "output_type": "execute_result"
    }
   ],
   "source": [
    "test = mdf.merge(ms, on = 'uid')\n",
    "test.head()"
   ]
  },
  {
   "cell_type": "markdown",
   "metadata": {},
   "source": [
    "Теперь нам надо разделить эту таблицу на две части: одну с пользователями, пришедшими из google, одну - с пользователями из yandex"
   ]
  },
  {
   "cell_type": "code",
   "execution_count": 66,
   "metadata": {},
   "outputs": [],
   "source": [
    "yandex = test.query('source == \"yandex\"')\n",
    "google = test.query('source == \"google\"')"
   ]
  },
  {
   "cell_type": "code",
   "execution_count": 67,
   "metadata": {},
   "outputs": [
    {
     "data": {},
     "execution_count": 67,
     "metadata": {},
     "output_type": "execute_result"
    }
   ],
   "source": [
    "yandex.info(), google.info()"
   ]
  },
  {
   "cell_type": "markdown",
   "metadata": {},
   "source": [
    "Уже видно, что табличкa yandex больше. Посмторим распределние пользователей:"
   ]
  },
  {
   "cell_type": "code",
   "execution_count": 68,
   "metadata": {},
   "outputs": [
    {
     "data": {},
     "execution_count": 68,
     "metadata": {},
     "output_type": "execute_result"
    }
   ],
   "source": [
    "yandex['uid'].nunique(), google['uid'].nunique()"
   ]
  },
  {
   "cell_type": "markdown",
   "metadata": {},
   "source": [
    "Из yandex пришло на 805 пользователей больше. Найдем распределения по активностям пользователей:"
   ]
  },
  {
   "cell_type": "code",
   "execution_count": 69,
   "metadata": {},
   "outputs": [],
   "source": [
    "#как и у основоного датафрейма сделаем одинаковые названия для целевого действия\n",
    "yandex['event_name'] = yandex['event_name'].replace(['contacts_show'],'show_contacts')\n",
    "google['event_name'] = google['event_name'].replace(['contacts_show'],'show_contacts')"
   ]
  },
  {
   "cell_type": "code",
   "execution_count": 70,
   "metadata": {},
   "outputs": [
    {
     "data": {},
     "execution_count": 70,
     "metadata": {},
     "output_type": "execute_result"
    }
   ],
   "source": [
    "yandex = yandex.groupby('event_name').agg({'uid':'nunique'}).reset_index().sort_values(by = 'uid', ascending = False)\n",
    "yandex['prt'] = yandex['uid'] / 1934 * 100\n",
    "yandex['prt'] = yandex['prt'].apply(np.ceil)\n",
    "\n",
    "yandex"
   ]
  },
  {
   "cell_type": "code",
   "execution_count": 71,
   "metadata": {},
   "outputs": [
    {
     "data": {},
     "execution_count": 71,
     "metadata": {},
     "output_type": "execute_result"
    }
   ],
   "source": [
    "google = google.groupby('event_name').agg({'uid':'nunique'}).reset_index().sort_values(by = 'uid', ascending = False)\n",
    "google['prt'] = google['uid'] / 1129 * 100\n",
    "google['prt'] = google['prt'].apply(np.ceil)\n",
    "\n",
    "google"
   ]
  },
  {
   "cell_type": "markdown",
   "metadata": {},
   "source": [
    "**25%** - именно столько пользователей из google и yandex добираются до целевого действия - show_contacts. \n",
    "\n",
    "Проверим это с помощью z-теста:"
   ]
  },
  {
   "cell_type": "code",
   "execution_count": 72,
   "metadata": {},
   "outputs": [],
   "source": [
    "alpha = .05\n",
    "successes = np.array([478, 275])\n",
    "trials = np.array([1934, 1129])\n",
    "p1 = successes[0]/trials[0]\n",
    "p2 = successes[1]/trials[1]\n",
    "p_combined = (successes[0] + successes[1]) / (trials[0] + trials[1])\n",
    "difference = p1 - p2\n",
    "z_value = difference / mth.sqrt(p_combined * (1 - p_combined) * (1/trials[0] + 1/trials[1]))\n",
    "distr = st.norm(0, 1)\n",
    "p_value = (1 - distr.cdf(abs(z_value))) * 2\n",
    "print('p-значение: ', p_value)\n",
    "if (p_value < alpha):\n",
    "    print(\"Отвергаем нулевую гипотезу: между долями есть значимая разница\")\n",
    "else:\n",
    "    print(\"Не получилось отвергнуть нулевую гипотезу, нет оснований считать доли разными\")"
   ]
  },
  {
   "cell_type": "markdown",
   "metadata": {},
   "source": [
    "Действительно, разницы нет"
   ]
  },
  {
   "cell_type": "markdown",
   "metadata": {},
   "source": [
    "### Формулировка собственной гипотезы на основе данных"
   ]
  },
  {
   "cell_type": "markdown",
   "metadata": {},
   "source": [
    "**Предлагаю проверить гипотезу: люди, которые провели более 3 сессий в приложении, показывают лучшую конверсию в целевую метрику**"
   ]
  },
  {
   "cell_type": "code",
   "execution_count": 73,
   "metadata": {},
   "outputs": [
    {
     "data": {},
     "execution_count": 73,
     "metadata": {},
     "output_type": "execute_result"
    }
   ],
   "source": [
    "session = mdf1.groupby('uid').agg({'session_id':'nunique'}).reset_index().sort_values(by = 'session_id', ascending = False)\n",
    "session['session_id'].describe()"
   ]
  },
  {
   "cell_type": "code",
   "execution_count": 74,
   "metadata": {},
   "outputs": [
    {
     "data": {},
     "execution_count": 74,
     "metadata": {},
     "output_type": "execute_result"
    }
   ],
   "source": [
    "sess = session.query('session_id >= 3')\n",
    "uid_sess = sess['uid']\n",
    "session1 = mdf1.query('uid in@uid_sess').reset_index()\n",
    "session1['uid'].nunique()\n"
   ]
  },
  {
   "cell_type": "code",
   "execution_count": 75,
   "metadata": {},
   "outputs": [
    {
     "data": {},
     "execution_count": 75,
     "metadata": {},
     "output_type": "execute_result"
    }
   ],
   "source": [
    "session2 = mdf1.query('uid not in@uid_sess').reset_index()\n",
    "session2['uid'].nunique()"
   ]
  },
  {
   "cell_type": "markdown",
   "metadata": {},
   "source": [
    "session1 - те, кто провел больше или ровно 3 сессии в приложении.\n",
    "\n",
    "session2 - те, кто провел меньше 3 сессий в приложении."
   ]
  },
  {
   "cell_type": "code",
   "execution_count": 76,
   "metadata": {},
   "outputs": [
    {
     "data": {},
     "execution_count": 76,
     "metadata": {},
     "output_type": "execute_result"
    }
   ],
   "source": [
    "session1 = session1.groupby('event_name').agg({'uid':'nunique'}).reset_index().sort_values(by = 'uid', ascending = False)\n",
    "session1['prt'] = session1['uid'] / 1266 * 100\n",
    "session1['prt'] = session1['prt'].apply(np.ceil)\n",
    "session1"
   ]
  },
  {
   "cell_type": "code",
   "execution_count": 314,
   "metadata": {},
   "outputs": [
    {
     "data": {},
     "execution_count": 314,
     "metadata": {},
     "output_type": "execute_result"
    }
   ],
   "source": [
    "session2 = session2.groupby('event_name').agg({'uid':'nunique'}).reset_index().sort_values(by = 'uid', ascending = False)\n",
    "session2['prt'] = session2['uid'] / 3027 * 100\n",
    "session2['prt'] = session2['prt'].apply(np.ceil)\n",
    "session2"
   ]
  },
  {
   "cell_type": "markdown",
   "metadata": {},
   "source": [
    "Конверсия тех, кто провел больше или ровно 3 сессии в приложении, 39%. Тех, кто провел меньше 3 сессий в приложении - 17%. Проверим это с помощью z-теста:"
   ]
  },
  {
   "cell_type": "code",
   "execution_count": 77,
   "metadata": {},
   "outputs": [],
   "source": [
    "alpha = .05\n",
    "successes = np.array([493, 488])\n",
    "trials = np.array([1266, 3027])\n",
    "p1 = successes[0]/trials[0]\n",
    "p2 = successes[1]/trials[1]\n",
    "p_combined = (successes[0] + successes[1]) / (trials[0] + trials[1])\n",
    "difference = p1 - p2\n",
    "z_value = difference / mth.sqrt(p_combined * (1 - p_combined) * (1/trials[0] + 1/trials[1]))\n",
    "distr = st.norm(0, 1)\n",
    "p_value = (1 - distr.cdf(abs(z_value))) * 2\n",
    "print('p-значение: ', p_value)\n",
    "if (p_value < alpha):\n",
    "    print(\"Отвергаем нулевую гипотезу: между долями есть значимая разница\")\n",
    "else:\n",
    "    print(\"Не получилось отвергнуть нулевую гипотезу, нет оснований считать доли разными\")"
   ]
  },
  {
   "cell_type": "markdown",
   "metadata": {},
   "source": [
    "Действительно, те, кто проводит в приложении больше или ровно 3 сессии, показывает лучшую конверсию в целевую метрику show_contacts"
   ]
  },
  {
   "cell_type": "markdown",
   "metadata": {},
   "source": [
    "# 6. Вывод:\n",
    "\n",
    "\n",
    " - Мы поделили пользователей на 4 группы: группа 1 - не видят рекомендаций и пользуются поиском; группа 2 - не видят рекомендаций и не пользуются поиском; группа 3 - видят рекомендации и пользуются поиском; группа 4 - видят рекомендаций и не пользуются поиском;\n",
    " - Самые низкие показатели удержания клиентов демонстрирует группа 4; группа 1 и 2 имеют самые высокие результаты на второй неделе; группа 3 показывает самый стабильный процент удержания, без резких падений;\n",
    " - В целом те, кто видят рекомендации, проводят в приложении больше времени. И те, кто использует поиск, тоже в приложении проводят больше времени;\n",
    " - Значительной разницы по частоте взаимодействий с приложением в неделю между группами нет;\n",
    " - Группы, которые не видели рекомендаций, показывают лучшую конверсию в целевую метрику show_contacts;\n",
    " - Группа 1(не видят рекомендаций и пользуются поиском) показала худший результат конверсии, чем группа 2(не видят рекомендаций и не пользуются поиском);\n",
    " - Между группой 3(видят рекомендации и пользуются поиском) и группой 4(видят рекомендации и не пользуются поиском) нет значительной разницы в конверсии;\n",
    " - Пользователями, пришедшие из google, и пользователи из yandex имеют одинаковую конверсию в целевую метрику show_contacts;\n",
    " - Те, кто проводит в приложении больше или ровно 3 сессии, показывает лучшую конверсию в целевую метрику show_contacts, чем те, кто провел менее 3 сессий.\n",
    " \n",
    "**Предложения**:\n",
    " - Необходимо продумать, как можно удерживать пользователей в приложении и добиваться, чтобы пользователи как можно чаще пользовались им;\n",
    " - Изменить поиск в приложении и, возможно, совместить его с системой рекомендаций;\n",
    " - Исследовать, почему те, кто не видят рекомендаций, демонстрируют лучшую конверсию в целевую метрику."
   ]
  },
  {
   "cell_type": "code",
   "execution_count": null,
   "metadata": {},
   "outputs": [],
   "source": []
  }
 ],
 "metadata": {
  "kernelspec": {
   "display_name": "Python 3",
   "language": "python",
   "name": "python3"
  },
  "language_info": {
   "codemirror_mode": {
    "name": "ipython",
    "version": 3
   },
   "file_extension": ".py",
   "mimetype": "text/x-python",
   "name": "python",
   "nbconvert_exporter": "python",
   "pygments_lexer": "ipython3",
   "version": "3.7.6"
  }
 },
 "nbformat": 4,
 "nbformat_minor": 4
}
